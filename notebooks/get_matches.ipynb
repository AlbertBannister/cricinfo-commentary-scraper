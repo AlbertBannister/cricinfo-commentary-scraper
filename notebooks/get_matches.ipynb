{
 "cells": [
  {
   "cell_type": "code",
   "execution_count": null,
   "metadata": {},
   "outputs": [],
   "source": [
    "import sys\n",
    "sys.path.append(\"..\")\n",
    "import json\n",
    "from pathlib import Path\n",
    "import scraper\n",
    "from concurrent.futures import ThreadPoolExecutor, as_completed\n",
    "from urllib import parse"
   ]
  },
  {
   "cell_type": "code",
   "execution_count": null,
   "metadata": {},
   "outputs": [],
   "source": [
    "data_dir = Path(\"../data/\")\n",
    "format_dir = data_dir / \"T20I\""
   ]
  },
  {
   "cell_type": "code",
   "execution_count": null,
   "metadata": {},
   "outputs": [],
   "source": [
    "test = scraper.get_match_detail(1336039, 1336049)\n",
    "test"
   ]
  },
  {
   "cell_type": "code",
   "execution_count": null,
   "metadata": {},
   "outputs": [],
   "source": [
    "def save_detail(series_id, match_id, base_path):\n",
    "    detail = scraper.get_match_detail(series_id, match_id)\n",
    "    try:\n",
    "        save_path = base_path / \"{0[match][slug]}-{0[match][objectId]}\".format(detail)\n",
    "        save_path.mkdir(exist_ok=True)\n",
    "        scraper.save_json(detail, save_path / \"meta.json\", debug=True)\n",
    "    except Exception:\n",
    "        print(\"failed for {} {} {}\".format(series_id, match_id, base_path))"
   ]
  },
  {
   "cell_type": "code",
   "execution_count": null,
   "metadata": {},
   "outputs": [],
   "source": [
    "# Then for each series we can get the match metadata\n",
    "for year_path in [path for path in format_dir.iterdir()]:\n",
    "    print(year_path)\n",
    "    with ThreadPoolExecutor() as pool:\n",
    "        futures=[]\n",
    "        for series_path in year_path.iterdir():\n",
    "            print(series_path)\n",
    "            series_meta = scraper.load_json(series_path / \"series_meta.json\")\n",
    "            season_meta = scraper.load_json(series_path / \"season_meta.json\")\n",
    "\n",
    "            try:\n",
    "                url = season_meta[\"links\"][1][\"href\"]\n",
    "                series_id = parse.parse_qsl(url)[0][1]\n",
    "            except:\n",
    "                series_id = series_meta[\"mappings\"][\"cricinfo\"]\n",
    "            \n",
    "            try:\n",
    "                event_urls = scraper.extract_items(scraper.json_resp(\"{}/{}\".format(season_meta[\"$ref\"], \"events\")))\n",
    "                \n",
    "                event_ids = scraper.extract_ids(event_urls)\n",
    "            except:\n",
    "                event_urls, event_ids = [], []\n",
    "\n",
    "            matches_dir = series_path / \"matches\" \n",
    "            matches_dir.mkdir()\n",
    "\n",
    "            for match_id, url in zip(event_ids, event_urls):            \n",
    "                futures.append(pool.submit(save_detail, series_id, match_id, matches_dir))\n",
    "        \n",
    "        [r.result() for r in as_completed(futures)]\n",
    "                \n",
    "                    "
   ]
  }
 ],
 "metadata": {
  "kernelspec": {
   "display_name": "cricinfo-scrape",
   "language": "python",
   "name": "python3"
  },
  "language_info": {
   "codemirror_mode": {
    "name": "ipython",
    "version": 3
   },
   "file_extension": ".py",
   "mimetype": "text/x-python",
   "name": "python",
   "nbconvert_exporter": "python",
   "pygments_lexer": "ipython3",
   "version": "3.10.4"
  },
  "orig_nbformat": 4
 },
 "nbformat": 4,
 "nbformat_minor": 2
}
