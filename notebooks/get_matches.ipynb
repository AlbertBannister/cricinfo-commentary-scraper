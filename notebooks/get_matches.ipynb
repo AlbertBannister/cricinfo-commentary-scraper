{
 "cells": [
  {
   "cell_type": "code",
   "execution_count": null,
   "metadata": {},
   "outputs": [],
   "source": [
    "import sys\n",
    "sys.path.append(\"..\")\n",
    "import json\n",
    "from pathlib import Path\n",
    "import scraper\n",
    "from concurrent.futures import ThreadPoolExecutor, as_completed"
   ]
  },
  {
   "cell_type": "code",
   "execution_count": null,
   "metadata": {},
   "outputs": [],
   "source": [
    "data_dir = Path(\"../data/\")\n",
    "format_dir = data_dir / \"T20I\""
   ]
  },
  {
   "cell_type": "code",
   "execution_count": null,
   "metadata": {},
   "outputs": [],
   "source": [
    "\n",
    "\n",
    "# Then for each series we can get the match metadata\n",
    "for year_path in [path for path in data_dir.iterdir()]:\n",
    "    with ThreadPoolExecutor() as pool:\n",
    "        futures=[]\n",
    "        for series_path in year_path.iterdir():\n",
    "            with open(series_path / \"series_meta.json\", \"r\") as f:\n",
    "                series_meta = json.load(f)\n",
    "\n",
    "            with open(series_path / \"season_meta.json\", \"r\") as f:\n",
    "                season_meta = json.load(f)\n",
    "            \n",
    "            series_id = series_meta[\"mappings\"][\"cricinfo\"]\n",
    "            \n",
    "            event_urls = scraper.extract_items(scraper.json_resp(\"{}/{}\".format(season_meta[\"$ref\"], \"events\")))\n",
    "            event_ids = scraper.extract_ids(event_urls)\n",
    "\n",
    "            matches_dir = series_path / \"matches\" \n",
    "\n",
    "            for match_id, url in zip(event_ids, event_urls):\n",
    "                match_dir = matches_dir / str(match_id) \n",
    "                if (match_dir / \"match_meta.json\").exists():\n",
    "                    print(\"already done\")\n",
    "                else:\n",
    "                    futures.append(pool.submit(scraper.scrape_and_save, scraper.json_resp, match_dir / \"match_meta.json\", True, url))\n",
    "            \n",
    "        [r.result() for r in as_completed(futures)]\n",
    "                \n",
    "                    "
   ]
  }
 ],
 "metadata": {
  "kernelspec": {
   "display_name": "cricinfo-scrape",
   "language": "python",
   "name": "python3"
  },
  "language_info": {
   "codemirror_mode": {
    "name": "ipython",
    "version": 3
   },
   "file_extension": ".py",
   "mimetype": "text/x-python",
   "name": "python",
   "nbconvert_exporter": "python",
   "pygments_lexer": "ipython3",
   "version": "3.10.4"
  },
  "orig_nbformat": 4
 },
 "nbformat": 4,
 "nbformat_minor": 2
}
