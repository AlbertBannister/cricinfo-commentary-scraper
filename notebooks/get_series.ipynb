{
 "cells": [
  {
   "cell_type": "code",
   "execution_count": null,
   "metadata": {},
   "outputs": [],
   "source": [
    "import sys\n",
    "sys.path.append(\"..\")"
   ]
  },
  {
   "cell_type": "code",
   "execution_count": null,
   "metadata": {},
   "outputs": [],
   "source": [
    "import json\n",
    "from pathlib import Path\n",
    "import scraper\n",
    "from concurrent.futures import ThreadPoolExecutor, as_completed"
   ]
  },
  {
   "cell_type": "code",
   "execution_count": null,
   "metadata": {},
   "outputs": [],
   "source": [
    "series = 1336037\n",
    "match = 1336043\n",
    "\n",
    "# sanity test\n",
    "match_deets = scraper.get_match_detail(series, match)\n",
    "series_deets = scraper.get_series_meta(series)\n",
    "print(match_deets[\"match\"][\"slug\"])\n",
    "print(series_deets[\"slug\"])"
   ]
  },
  {
   "cell_type": "code",
   "execution_count": null,
   "metadata": {},
   "outputs": [],
   "source": [
    "# The series API allows us to select most of the series IDs, however it seems to be buggy. \n",
    "# You can only get some series (mostly major mixed format ones, e.g. The Ashes) by passing in gibberish.\n",
    "\n",
    "format_type = scraper.T20I\n",
    "format_name = \"T20I\"\n",
    "ids = scraper.get_series_ids(format_type)\n",
    "ids"
   ]
  },
  {
   "cell_type": "code",
   "execution_count": null,
   "metadata": {},
   "outputs": [],
   "source": [
    "# save as we go\n",
    "def save_series(id, base_path):\n",
    "    base_path = Path(base_path) if isinstance(base_path, str) else base_path\n",
    "    try:\n",
    "        series_meta = scraper.get_series_meta(id)\n",
    "        if any(class_id in [str(x) for x in series_meta[\"classId\"]] for class_id in \"1 2 3\".split()):\n",
    "            seasons_meta = scraper.get_seasons_meta(id)\n",
    "            for season_meta in seasons_meta:\n",
    "                try:\n",
    "                    season_path = base_path / str(season_meta[\"year\"]) / \"{0[id]}-{0[slug]}\".format(series_meta)\n",
    "                    season_path.mkdir(exist_ok=True, parents=True)\n",
    "                    print(season_path)\n",
    "                    with open(season_path / \"season_meta.json\", \"w\") as f:\n",
    "                        json.dump(season_meta, f,ensure_ascii=False, indent=4)\n",
    "                        print(\"saved {}\".format(season_path / \"season_meta.json\"))\n",
    "\n",
    "                    with open(season_path / \"series_meta.json\", \"w\") as f:\n",
    "                        json.dump(series_meta, f, ensure_ascii=False, indent=4)\n",
    "                        print(\"saved {}\".format(season_path / \"series_meta.json\"))\n",
    "                    \n",
    "                except:\n",
    "                    print(\"could not save {}\".format(season_path))\n",
    "\n",
    "    except json.JSONDecodeError:\n",
    "        print(\"not json\")"
   ]
  },
  {
   "cell_type": "code",
   "execution_count": null,
   "metadata": {},
   "outputs": [],
   "source": [
    "data_dir = Path(\"../data\")\n",
    "format_dir = data_dir / format_name\n",
    "\n",
    "# bit hacky but to avoid re-downloading\n",
    "not_done = [x for x in ids if not list(format_dir.rglob(\"{}-*/series_meta.json\".format(x)))]\n",
    "print(len(not_done))\n",
    "\n",
    "chunk_size = 100\n",
    "for i in range(0, len(not_done), chunk_size):\n",
    "    end_i = i + chunk_size    \n",
    "    chunk = not_done[i:end_i]\n",
    "    with ThreadPoolExecutor() as pool:\n",
    "        for id in chunk:\n",
    "            pool.submit(save_series, id, data_dir)\n",
    "\n",
    "    print(\"done {}\".format(i + chunk_size))"
   ]
  }
 ],
 "metadata": {
  "kernelspec": {
   "display_name": "Python 3.9.12 ('cricket-data')",
   "language": "python",
   "name": "python3"
  },
  "language_info": {
   "codemirror_mode": {
    "name": "ipython",
    "version": 3
   },
   "file_extension": ".py",
   "mimetype": "text/x-python",
   "name": "python",
   "nbconvert_exporter": "python",
   "pygments_lexer": "ipython3",
   "version": "3.10.4"
  },
  "orig_nbformat": 4,
  "vscode": {
   "interpreter": {
    "hash": "b9049a718c47a59259add8d80713562baaf51d8bafe022e1e9a5091dd6e59f25"
   }
  }
 },
 "nbformat": 4,
 "nbformat_minor": 2
}
