{
 "cells": [
  {
   "cell_type": "code",
   "execution_count": null,
   "metadata": {},
   "outputs": [],
   "source": [
    "import sys\n",
    "sys.path.append(\"..\")\n",
    "from pathlib import Path\n",
    "import scraper\n",
    "from concurrent.futures import ThreadPoolExecutor, as_completed\n",
    "from urllib import parse"
   ]
  },
  {
   "cell_type": "code",
   "execution_count": null,
   "metadata": {},
   "outputs": [],
   "source": [
    "data_dir = Path(\"../data\")\n",
    "format_name = \"T20I\"\n",
    "format_dir = data_dir / format_name\n"
   ]
  },
  {
   "cell_type": "code",
   "execution_count": null,
   "metadata": {},
   "outputs": [],
   "source": [
    "# sanity check\n",
    "comms = scraper.scrape_game(660011, 660235, debug=True)\n",
    "comms"
   ]
  },
  {
   "cell_type": "code",
   "execution_count": null,
   "metadata": {},
   "outputs": [],
   "source": [
    "for year_path in format_dir.iterdir():\n",
    "    with ThreadPoolExecutor() as pool:\n",
    "        futures=[]\n",
    "        for series_path in year_path.iterdir():\n",
    "            matches_dir = series_path / \"matches\"\n",
    "\n",
    "            if matches_dir.exists():\n",
    "                for match_path in matches_dir.iterdir():\n",
    "                    if (match_path / \"meta.json\").exists() and not (match_path / \"ball_by_ball.json\").exists():\n",
    "                        match_meta = scraper.load_json(match_path / \"meta.json\")\n",
    "                        match_id = match_meta[\"match\"][\"objectId\"]\n",
    "                        series_id = match_meta[\"match\"][\"series\"][\"objectId\"]\n",
    "                        if match_meta[\"match\"][\"coverage\"] == \"Y\" and match_meta[\"match\"][\"status\"] not in [\"ABANDONED\", \"CANCELLED\", \"POSTPONED\"]:\n",
    "                            futures.append(pool.submit(scraper.scrape_and_save, scraper.scrape_game, match_path / \"ball_by_ball.json\", False, series_id, match_id, debug=False))\n",
    "                            print(match_path)\n",
    "                        else:\n",
    "                            print(\"no comms available for {}\".format(match_path))\n",
    "                            \n",
    "                            \n",
    "            scraper.think_about_it_take_a_second(3)\n",
    "\n",
    "        # wait for everything from year to finish to avoid overloading\n",
    "        [r.result() for r in as_completed(futures)]\n",
    "                \n",
    "                    "
   ]
  }
 ],
 "metadata": {
  "kernelspec": {
   "display_name": "cricinfo-scrape",
   "language": "python",
   "name": "python3"
  },
  "language_info": {
   "codemirror_mode": {
    "name": "ipython",
    "version": 3
   },
   "file_extension": ".py",
   "mimetype": "text/x-python",
   "name": "python",
   "nbconvert_exporter": "python",
   "pygments_lexer": "ipython3",
   "version": "3.10.4"
  },
  "orig_nbformat": 4
 },
 "nbformat": 4,
 "nbformat_minor": 2
}
