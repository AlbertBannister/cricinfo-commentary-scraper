{
 "cells": [
  {
   "cell_type": "code",
   "execution_count": null,
   "metadata": {},
   "outputs": [],
   "source": [
    "import sys\n",
    "sys.path.append(\"..\")\n",
    "import json\n",
    "from pathlib import Path\n",
    "import scraper\n",
    "from concurrent.futures import ThreadPoolExecutor, as_completed"
   ]
  },
  {
   "cell_type": "code",
   "execution_count": null,
   "metadata": {},
   "outputs": [],
   "source": [
    "def open_json(path):\n",
    "    with open(path, \"r\") as f:\n",
    "        return json.load(f)"
   ]
  },
  {
   "cell_type": "code",
   "execution_count": null,
   "metadata": {},
   "outputs": [],
   "source": [
    "data_dir = Path(\"../data/T20I/\")\n",
    "\n",
    "# Then for each series we can get the match metadata\n",
    "for year_path in [path for path in data_dir.iterdir() if path.name==\"2015\"]:\n",
    "    with ThreadPoolExecutor() as pool:\n",
    "        futures=[]\n",
    "        for series_path in year_path.iterdir():\n",
    "            with open(series_path / \"series_meta.json\", \"r\") as f:\n",
    "                series_meta = json.load(f)\n",
    "\n",
    "            with open(series_path / \"season_meta.json\", \"r\") as f:\n",
    "                season_meta = json.load(f)\n",
    "            \n",
    "            series_id = series_meta[\"mappings\"][\"cricinfo\"]\n",
    "            matches_dir = series_path / \"matches\"\n",
    "\n",
    "            if matches_dir.exists():\n",
    "                for match_path in matches_dir.iterdir():\n",
    "                    if (match_path / \"match_meta.json\").exists() and not (match_path / \"ball_by_ball.json\").exists():\n",
    "                        try:\n",
    "                            match_meta = open_json(match_path / \"match_meta.json\")\n",
    "                            match_id = match_meta[\"id\"]\n",
    "                            if match_meta[\"competitions\"][0][\"liveAvailable\"]:\n",
    "                                futures.append(pool.submit(scraper.scrape_and_save, scraper.scrape_game, match_path / \"ball_by_ball.json\", False, series_id, match_id, debug=False))\n",
    "                                print(match_path)\n",
    "                                scraper.think_about_it_take_a_second(1)\n",
    "                            else:\n",
    "                                print(\"no comms available for {}\".format(match_path))\n",
    "                            \n",
    "                        except:\n",
    "                            print(match_meta)\n",
    "                            \n",
    "            scraper.think_about_it_take_a_second(3)\n",
    "\n",
    "        # wait for everything from year to finish to avoid overloading\n",
    "        [r.result() for r in as_completed(futures)]\n",
    "                \n",
    "                    "
   ]
  }
 ],
 "metadata": {
  "kernelspec": {
   "display_name": "cricinfo-scrape",
   "language": "python",
   "name": "python3"
  },
  "language_info": {
   "codemirror_mode": {
    "name": "ipython",
    "version": 3
   },
   "file_extension": ".py",
   "mimetype": "text/x-python",
   "name": "python",
   "nbconvert_exporter": "python",
   "pygments_lexer": "ipython3",
   "version": "3.10.4"
  },
  "orig_nbformat": 4
 },
 "nbformat": 4,
 "nbformat_minor": 2
}
